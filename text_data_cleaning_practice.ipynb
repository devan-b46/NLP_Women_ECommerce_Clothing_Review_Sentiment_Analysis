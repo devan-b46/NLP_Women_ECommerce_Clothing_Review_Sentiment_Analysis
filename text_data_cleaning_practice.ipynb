{
 "cells": [
  {
   "cell_type": "code",
   "execution_count": 1,
   "id": "cdd1fa07",
   "metadata": {
    "_cell_guid": "b1076dfc-b9ad-4769-8c92-a6c4dae69d19",
    "_uuid": "8f2839f25d086af736a60e9eeb907d3b93b6e0e5",
    "execution": {
     "iopub.execute_input": "2025-06-26T16:00:15.792011Z",
     "iopub.status.busy": "2025-06-26T16:00:15.791725Z",
     "iopub.status.idle": "2025-06-26T16:00:17.587122Z",
     "shell.execute_reply": "2025-06-26T16:00:17.586164Z"
    },
    "papermill": {
     "duration": 1.802084,
     "end_time": "2025-06-26T16:00:17.588612",
     "exception": false,
     "start_time": "2025-06-26T16:00:15.786528",
     "status": "completed"
    },
    "tags": []
   },
   "outputs": [
    {
     "name": "stdout",
     "output_type": "stream",
     "text": [
      "/kaggle/input/amazon-music-reviews/Musical_Instruments_5.json\n",
      "/kaggle/input/amazon-music-reviews/Musical_instruments_reviews.csv\n"
     ]
    }
   ],
   "source": [
    "# This Python 3 environment comes with many helpful analytics libraries installed\n",
    "# It is defined by the kaggle/python Docker image: https://github.com/kaggle/docker-python\n",
    "# For example, here's several helpful packages to load\n",
    "\n",
    "import numpy as np # linear algebra\n",
    "import pandas as pd # data processing, CSV file I/O (e.g. pd.read_csv)\n",
    "\n",
    "# Input data files are available in the read-only \"../input/\" directory\n",
    "# For example, running this (by clicking run or pressing Shift+Enter) will list all files under the input directory\n",
    "\n",
    "import os\n",
    "for dirname, _, filenames in os.walk('/kaggle/input'):\n",
    "    for filename in filenames:\n",
    "        print(os.path.join(dirname, filename))\n",
    "\n",
    "# You can write up to 20GB to the current directory (/kaggle/working/) that gets preserved as output when you create a version using \"Save & Run All\" \n",
    "# You can also write temporary files to /kaggle/temp/, but they won't be saved outside of the current session"
   ]
  },
  {
   "cell_type": "code",
   "execution_count": 2,
   "id": "fb6a8fe4",
   "metadata": {
    "execution": {
     "iopub.execute_input": "2025-06-26T16:00:17.598238Z",
     "iopub.status.busy": "2025-06-26T16:00:17.597777Z",
     "iopub.status.idle": "2025-06-26T16:00:17.602497Z",
     "shell.execute_reply": "2025-06-26T16:00:17.601632Z"
    },
    "papermill": {
     "duration": 0.011295,
     "end_time": "2025-06-26T16:00:17.604007",
     "exception": false,
     "start_time": "2025-06-26T16:00:17.592712",
     "status": "completed"
    },
    "tags": []
   },
   "outputs": [],
   "source": [
    "import json"
   ]
  },
  {
   "cell_type": "code",
   "execution_count": 3,
   "id": "6fbd9015",
   "metadata": {
    "execution": {
     "iopub.execute_input": "2025-06-26T16:00:17.612554Z",
     "iopub.status.busy": "2025-06-26T16:00:17.611851Z",
     "iopub.status.idle": "2025-06-26T16:00:17.615625Z",
     "shell.execute_reply": "2025-06-26T16:00:17.614821Z"
    },
    "papermill": {
     "duration": 0.009357,
     "end_time": "2025-06-26T16:00:17.617019",
     "exception": false,
     "start_time": "2025-06-26T16:00:17.607662",
     "status": "completed"
    },
    "tags": []
   },
   "outputs": [],
   "source": [
    "# with open('/kaggle/input/amazon-music-reviews/Musical_Instruments_5.json','r',encoding='utf-8') as i:\n",
    "#     data = json.load(i)"
   ]
  },
  {
   "cell_type": "code",
   "execution_count": 4,
   "id": "aea0d09a",
   "metadata": {
    "execution": {
     "iopub.execute_input": "2025-06-26T16:00:17.625229Z",
     "iopub.status.busy": "2025-06-26T16:00:17.624890Z",
     "iopub.status.idle": "2025-06-26T16:00:17.875274Z",
     "shell.execute_reply": "2025-06-26T16:00:17.874486Z"
    },
    "papermill": {
     "duration": 0.256399,
     "end_time": "2025-06-26T16:00:17.876929",
     "exception": false,
     "start_time": "2025-06-26T16:00:17.620530",
     "status": "completed"
    },
    "tags": []
   },
   "outputs": [],
   "source": [
    "df = pd.read_json('/kaggle/input/amazon-music-reviews/Musical_Instruments_5.json',lines = True)"
   ]
  },
  {
   "cell_type": "code",
   "execution_count": 5,
   "id": "6a287535",
   "metadata": {
    "execution": {
     "iopub.execute_input": "2025-06-26T16:00:17.886280Z",
     "iopub.status.busy": "2025-06-26T16:00:17.885949Z",
     "iopub.status.idle": "2025-06-26T16:00:17.917722Z",
     "shell.execute_reply": "2025-06-26T16:00:17.916887Z"
    },
    "papermill": {
     "duration": 0.037549,
     "end_time": "2025-06-26T16:00:17.919108",
     "exception": false,
     "start_time": "2025-06-26T16:00:17.881559",
     "status": "completed"
    },
    "tags": []
   },
   "outputs": [
    {
     "data": {
      "text/html": [
       "<div>\n",
       "<style scoped>\n",
       "    .dataframe tbody tr th:only-of-type {\n",
       "        vertical-align: middle;\n",
       "    }\n",
       "\n",
       "    .dataframe tbody tr th {\n",
       "        vertical-align: top;\n",
       "    }\n",
       "\n",
       "    .dataframe thead th {\n",
       "        text-align: right;\n",
       "    }\n",
       "</style>\n",
       "<table border=\"1\" class=\"dataframe\">\n",
       "  <thead>\n",
       "    <tr style=\"text-align: right;\">\n",
       "      <th></th>\n",
       "      <th>reviewerID</th>\n",
       "      <th>asin</th>\n",
       "      <th>reviewerName</th>\n",
       "      <th>helpful</th>\n",
       "      <th>reviewText</th>\n",
       "      <th>overall</th>\n",
       "      <th>summary</th>\n",
       "      <th>unixReviewTime</th>\n",
       "      <th>reviewTime</th>\n",
       "    </tr>\n",
       "  </thead>\n",
       "  <tbody>\n",
       "    <tr>\n",
       "      <th>0</th>\n",
       "      <td>A2IBPI20UZIR0U</td>\n",
       "      <td>1384719342</td>\n",
       "      <td>cassandra tu \"Yeah, well, that's just like, u...</td>\n",
       "      <td>[0, 0]</td>\n",
       "      <td>Not much to write about here, but it does exac...</td>\n",
       "      <td>5</td>\n",
       "      <td>good</td>\n",
       "      <td>1393545600</td>\n",
       "      <td>02 28, 2014</td>\n",
       "    </tr>\n",
       "    <tr>\n",
       "      <th>1</th>\n",
       "      <td>A14VAT5EAX3D9S</td>\n",
       "      <td>1384719342</td>\n",
       "      <td>Jake</td>\n",
       "      <td>[13, 14]</td>\n",
       "      <td>The product does exactly as it should and is q...</td>\n",
       "      <td>5</td>\n",
       "      <td>Jake</td>\n",
       "      <td>1363392000</td>\n",
       "      <td>03 16, 2013</td>\n",
       "    </tr>\n",
       "    <tr>\n",
       "      <th>2</th>\n",
       "      <td>A195EZSQDW3E21</td>\n",
       "      <td>1384719342</td>\n",
       "      <td>Rick Bennette \"Rick Bennette\"</td>\n",
       "      <td>[1, 1]</td>\n",
       "      <td>The primary job of this device is to block the...</td>\n",
       "      <td>5</td>\n",
       "      <td>It Does The Job Well</td>\n",
       "      <td>1377648000</td>\n",
       "      <td>08 28, 2013</td>\n",
       "    </tr>\n",
       "    <tr>\n",
       "      <th>3</th>\n",
       "      <td>A2C00NNG1ZQQG2</td>\n",
       "      <td>1384719342</td>\n",
       "      <td>RustyBill \"Sunday Rocker\"</td>\n",
       "      <td>[0, 0]</td>\n",
       "      <td>Nice windscreen protects my MXL mic and preven...</td>\n",
       "      <td>5</td>\n",
       "      <td>GOOD WINDSCREEN FOR THE MONEY</td>\n",
       "      <td>1392336000</td>\n",
       "      <td>02 14, 2014</td>\n",
       "    </tr>\n",
       "    <tr>\n",
       "      <th>4</th>\n",
       "      <td>A94QU4C90B1AX</td>\n",
       "      <td>1384719342</td>\n",
       "      <td>SEAN MASLANKA</td>\n",
       "      <td>[0, 0]</td>\n",
       "      <td>This pop filter is great. It looks and perform...</td>\n",
       "      <td>5</td>\n",
       "      <td>No more pops when I record my vocals.</td>\n",
       "      <td>1392940800</td>\n",
       "      <td>02 21, 2014</td>\n",
       "    </tr>\n",
       "    <tr>\n",
       "      <th>...</th>\n",
       "      <td>...</td>\n",
       "      <td>...</td>\n",
       "      <td>...</td>\n",
       "      <td>...</td>\n",
       "      <td>...</td>\n",
       "      <td>...</td>\n",
       "      <td>...</td>\n",
       "      <td>...</td>\n",
       "      <td>...</td>\n",
       "    </tr>\n",
       "    <tr>\n",
       "      <th>10256</th>\n",
       "      <td>A14B2YH83ZXMPP</td>\n",
       "      <td>B00JBIVXGC</td>\n",
       "      <td>Lonnie M. Adams</td>\n",
       "      <td>[0, 0]</td>\n",
       "      <td>Great, just as expected.  Thank to all.</td>\n",
       "      <td>5</td>\n",
       "      <td>Five Stars</td>\n",
       "      <td>1405814400</td>\n",
       "      <td>07 20, 2014</td>\n",
       "    </tr>\n",
       "    <tr>\n",
       "      <th>10257</th>\n",
       "      <td>A1RPTVW5VEOSI</td>\n",
       "      <td>B00JBIVXGC</td>\n",
       "      <td>Michael J. Edelman</td>\n",
       "      <td>[0, 0]</td>\n",
       "      <td>I've been thinking about trying the Nanoweb st...</td>\n",
       "      <td>5</td>\n",
       "      <td>Long life, and for some players, a good econom...</td>\n",
       "      <td>1404259200</td>\n",
       "      <td>07 2, 2014</td>\n",
       "    </tr>\n",
       "    <tr>\n",
       "      <th>10258</th>\n",
       "      <td>AWCJ12KBO5VII</td>\n",
       "      <td>B00JBIVXGC</td>\n",
       "      <td>Michael L. Knapp</td>\n",
       "      <td>[0, 0]</td>\n",
       "      <td>I have tried coated strings in the past ( incl...</td>\n",
       "      <td>4</td>\n",
       "      <td>Good for coated.</td>\n",
       "      <td>1405987200</td>\n",
       "      <td>07 22, 2014</td>\n",
       "    </tr>\n",
       "    <tr>\n",
       "      <th>10259</th>\n",
       "      <td>A2Z7S8B5U4PAKJ</td>\n",
       "      <td>B00JBIVXGC</td>\n",
       "      <td>Rick Langdon \"Scriptor\"</td>\n",
       "      <td>[0, 0]</td>\n",
       "      <td>Well, MADE by Elixir and DEVELOPED with Taylor...</td>\n",
       "      <td>4</td>\n",
       "      <td>Taylor Made</td>\n",
       "      <td>1404172800</td>\n",
       "      <td>07 1, 2014</td>\n",
       "    </tr>\n",
       "    <tr>\n",
       "      <th>10260</th>\n",
       "      <td>A2WA8TDCTGUADI</td>\n",
       "      <td>B00JBIVXGC</td>\n",
       "      <td>TheTerrorBeyond</td>\n",
       "      <td>[0, 0]</td>\n",
       "      <td>These strings are really quite good, but I wou...</td>\n",
       "      <td>4</td>\n",
       "      <td>These strings are really quite good, but I wou...</td>\n",
       "      <td>1405468800</td>\n",
       "      <td>07 16, 2014</td>\n",
       "    </tr>\n",
       "  </tbody>\n",
       "</table>\n",
       "<p>10261 rows × 9 columns</p>\n",
       "</div>"
      ],
      "text/plain": [
       "           reviewerID        asin  \\\n",
       "0      A2IBPI20UZIR0U  1384719342   \n",
       "1      A14VAT5EAX3D9S  1384719342   \n",
       "2      A195EZSQDW3E21  1384719342   \n",
       "3      A2C00NNG1ZQQG2  1384719342   \n",
       "4       A94QU4C90B1AX  1384719342   \n",
       "...               ...         ...   \n",
       "10256  A14B2YH83ZXMPP  B00JBIVXGC   \n",
       "10257   A1RPTVW5VEOSI  B00JBIVXGC   \n",
       "10258   AWCJ12KBO5VII  B00JBIVXGC   \n",
       "10259  A2Z7S8B5U4PAKJ  B00JBIVXGC   \n",
       "10260  A2WA8TDCTGUADI  B00JBIVXGC   \n",
       "\n",
       "                                           reviewerName   helpful  \\\n",
       "0      cassandra tu \"Yeah, well, that's just like, u...    [0, 0]   \n",
       "1                                                  Jake  [13, 14]   \n",
       "2                         Rick Bennette \"Rick Bennette\"    [1, 1]   \n",
       "3                             RustyBill \"Sunday Rocker\"    [0, 0]   \n",
       "4                                         SEAN MASLANKA    [0, 0]   \n",
       "...                                                 ...       ...   \n",
       "10256                                   Lonnie M. Adams    [0, 0]   \n",
       "10257                                Michael J. Edelman    [0, 0]   \n",
       "10258                                  Michael L. Knapp    [0, 0]   \n",
       "10259                           Rick Langdon \"Scriptor\"    [0, 0]   \n",
       "10260                                   TheTerrorBeyond    [0, 0]   \n",
       "\n",
       "                                              reviewText  overall  \\\n",
       "0      Not much to write about here, but it does exac...        5   \n",
       "1      The product does exactly as it should and is q...        5   \n",
       "2      The primary job of this device is to block the...        5   \n",
       "3      Nice windscreen protects my MXL mic and preven...        5   \n",
       "4      This pop filter is great. It looks and perform...        5   \n",
       "...                                                  ...      ...   \n",
       "10256            Great, just as expected.  Thank to all.        5   \n",
       "10257  I've been thinking about trying the Nanoweb st...        5   \n",
       "10258  I have tried coated strings in the past ( incl...        4   \n",
       "10259  Well, MADE by Elixir and DEVELOPED with Taylor...        4   \n",
       "10260  These strings are really quite good, but I wou...        4   \n",
       "\n",
       "                                                 summary  unixReviewTime  \\\n",
       "0                                                   good      1393545600   \n",
       "1                                                   Jake      1363392000   \n",
       "2                                   It Does The Job Well      1377648000   \n",
       "3                          GOOD WINDSCREEN FOR THE MONEY      1392336000   \n",
       "4                  No more pops when I record my vocals.      1392940800   \n",
       "...                                                  ...             ...   \n",
       "10256                                         Five Stars      1405814400   \n",
       "10257  Long life, and for some players, a good econom...      1404259200   \n",
       "10258                                   Good for coated.      1405987200   \n",
       "10259                                        Taylor Made      1404172800   \n",
       "10260  These strings are really quite good, but I wou...      1405468800   \n",
       "\n",
       "        reviewTime  \n",
       "0      02 28, 2014  \n",
       "1      03 16, 2013  \n",
       "2      08 28, 2013  \n",
       "3      02 14, 2014  \n",
       "4      02 21, 2014  \n",
       "...            ...  \n",
       "10256  07 20, 2014  \n",
       "10257   07 2, 2014  \n",
       "10258  07 22, 2014  \n",
       "10259   07 1, 2014  \n",
       "10260  07 16, 2014  \n",
       "\n",
       "[10261 rows x 9 columns]"
      ]
     },
     "execution_count": 5,
     "metadata": {},
     "output_type": "execute_result"
    }
   ],
   "source": [
    "df"
   ]
  },
  {
   "cell_type": "code",
   "execution_count": 6,
   "id": "7a281743",
   "metadata": {
    "execution": {
     "iopub.execute_input": "2025-06-26T16:00:17.927575Z",
     "iopub.status.busy": "2025-06-26T16:00:17.927186Z",
     "iopub.status.idle": "2025-06-26T16:00:17.947955Z",
     "shell.execute_reply": "2025-06-26T16:00:17.947187Z"
    },
    "papermill": {
     "duration": 0.026465,
     "end_time": "2025-06-26T16:00:17.949313",
     "exception": false,
     "start_time": "2025-06-26T16:00:17.922848",
     "status": "completed"
    },
    "tags": []
   },
   "outputs": [
    {
     "data": {
      "text/html": [
       "<div>\n",
       "<style scoped>\n",
       "    .dataframe tbody tr th:only-of-type {\n",
       "        vertical-align: middle;\n",
       "    }\n",
       "\n",
       "    .dataframe tbody tr th {\n",
       "        vertical-align: top;\n",
       "    }\n",
       "\n",
       "    .dataframe thead th {\n",
       "        text-align: right;\n",
       "    }\n",
       "</style>\n",
       "<table border=\"1\" class=\"dataframe\">\n",
       "  <thead>\n",
       "    <tr style=\"text-align: right;\">\n",
       "      <th></th>\n",
       "      <th>reviewerID</th>\n",
       "      <th>asin</th>\n",
       "      <th>reviewerName</th>\n",
       "      <th>helpful</th>\n",
       "      <th>reviewText</th>\n",
       "      <th>overall</th>\n",
       "      <th>summary</th>\n",
       "      <th>unixReviewTime</th>\n",
       "      <th>reviewTime</th>\n",
       "      <th>combined_review</th>\n",
       "    </tr>\n",
       "  </thead>\n",
       "  <tbody>\n",
       "    <tr>\n",
       "      <th>0</th>\n",
       "      <td>A2IBPI20UZIR0U</td>\n",
       "      <td>1384719342</td>\n",
       "      <td>cassandra tu \"Yeah, well, that's just like, u...</td>\n",
       "      <td>[0, 0]</td>\n",
       "      <td>Not much to write about here, but it does exac...</td>\n",
       "      <td>5</td>\n",
       "      <td>good</td>\n",
       "      <td>1393545600</td>\n",
       "      <td>02 28, 2014</td>\n",
       "      <td>good Not much to write about here, but it does...</td>\n",
       "    </tr>\n",
       "    <tr>\n",
       "      <th>1</th>\n",
       "      <td>A14VAT5EAX3D9S</td>\n",
       "      <td>1384719342</td>\n",
       "      <td>Jake</td>\n",
       "      <td>[13, 14]</td>\n",
       "      <td>The product does exactly as it should and is q...</td>\n",
       "      <td>5</td>\n",
       "      <td>Jake</td>\n",
       "      <td>1363392000</td>\n",
       "      <td>03 16, 2013</td>\n",
       "      <td>Jake The product does exactly as it should and...</td>\n",
       "    </tr>\n",
       "    <tr>\n",
       "      <th>2</th>\n",
       "      <td>A195EZSQDW3E21</td>\n",
       "      <td>1384719342</td>\n",
       "      <td>Rick Bennette \"Rick Bennette\"</td>\n",
       "      <td>[1, 1]</td>\n",
       "      <td>The primary job of this device is to block the...</td>\n",
       "      <td>5</td>\n",
       "      <td>It Does The Job Well</td>\n",
       "      <td>1377648000</td>\n",
       "      <td>08 28, 2013</td>\n",
       "      <td>It Does The Job Well The primary job of this d...</td>\n",
       "    </tr>\n",
       "    <tr>\n",
       "      <th>3</th>\n",
       "      <td>A2C00NNG1ZQQG2</td>\n",
       "      <td>1384719342</td>\n",
       "      <td>RustyBill \"Sunday Rocker\"</td>\n",
       "      <td>[0, 0]</td>\n",
       "      <td>Nice windscreen protects my MXL mic and preven...</td>\n",
       "      <td>5</td>\n",
       "      <td>GOOD WINDSCREEN FOR THE MONEY</td>\n",
       "      <td>1392336000</td>\n",
       "      <td>02 14, 2014</td>\n",
       "      <td>GOOD WINDSCREEN FOR THE MONEY Nice windscreen ...</td>\n",
       "    </tr>\n",
       "    <tr>\n",
       "      <th>4</th>\n",
       "      <td>A94QU4C90B1AX</td>\n",
       "      <td>1384719342</td>\n",
       "      <td>SEAN MASLANKA</td>\n",
       "      <td>[0, 0]</td>\n",
       "      <td>This pop filter is great. It looks and perform...</td>\n",
       "      <td>5</td>\n",
       "      <td>No more pops when I record my vocals.</td>\n",
       "      <td>1392940800</td>\n",
       "      <td>02 21, 2014</td>\n",
       "      <td>No more pops when I record my vocals. This pop...</td>\n",
       "    </tr>\n",
       "    <tr>\n",
       "      <th>...</th>\n",
       "      <td>...</td>\n",
       "      <td>...</td>\n",
       "      <td>...</td>\n",
       "      <td>...</td>\n",
       "      <td>...</td>\n",
       "      <td>...</td>\n",
       "      <td>...</td>\n",
       "      <td>...</td>\n",
       "      <td>...</td>\n",
       "      <td>...</td>\n",
       "    </tr>\n",
       "    <tr>\n",
       "      <th>10256</th>\n",
       "      <td>A14B2YH83ZXMPP</td>\n",
       "      <td>B00JBIVXGC</td>\n",
       "      <td>Lonnie M. Adams</td>\n",
       "      <td>[0, 0]</td>\n",
       "      <td>Great, just as expected.  Thank to all.</td>\n",
       "      <td>5</td>\n",
       "      <td>Five Stars</td>\n",
       "      <td>1405814400</td>\n",
       "      <td>07 20, 2014</td>\n",
       "      <td>Five Stars Great, just as expected.  Thank to ...</td>\n",
       "    </tr>\n",
       "    <tr>\n",
       "      <th>10257</th>\n",
       "      <td>A1RPTVW5VEOSI</td>\n",
       "      <td>B00JBIVXGC</td>\n",
       "      <td>Michael J. Edelman</td>\n",
       "      <td>[0, 0]</td>\n",
       "      <td>I've been thinking about trying the Nanoweb st...</td>\n",
       "      <td>5</td>\n",
       "      <td>Long life, and for some players, a good econom...</td>\n",
       "      <td>1404259200</td>\n",
       "      <td>07 2, 2014</td>\n",
       "      <td>Long life, and for some players, a good econom...</td>\n",
       "    </tr>\n",
       "    <tr>\n",
       "      <th>10258</th>\n",
       "      <td>AWCJ12KBO5VII</td>\n",
       "      <td>B00JBIVXGC</td>\n",
       "      <td>Michael L. Knapp</td>\n",
       "      <td>[0, 0]</td>\n",
       "      <td>I have tried coated strings in the past ( incl...</td>\n",
       "      <td>4</td>\n",
       "      <td>Good for coated.</td>\n",
       "      <td>1405987200</td>\n",
       "      <td>07 22, 2014</td>\n",
       "      <td>Good for coated. I have tried coated strings i...</td>\n",
       "    </tr>\n",
       "    <tr>\n",
       "      <th>10259</th>\n",
       "      <td>A2Z7S8B5U4PAKJ</td>\n",
       "      <td>B00JBIVXGC</td>\n",
       "      <td>Rick Langdon \"Scriptor\"</td>\n",
       "      <td>[0, 0]</td>\n",
       "      <td>Well, MADE by Elixir and DEVELOPED with Taylor...</td>\n",
       "      <td>4</td>\n",
       "      <td>Taylor Made</td>\n",
       "      <td>1404172800</td>\n",
       "      <td>07 1, 2014</td>\n",
       "      <td>Taylor Made Well, MADE by Elixir and DEVELOPED...</td>\n",
       "    </tr>\n",
       "    <tr>\n",
       "      <th>10260</th>\n",
       "      <td>A2WA8TDCTGUADI</td>\n",
       "      <td>B00JBIVXGC</td>\n",
       "      <td>TheTerrorBeyond</td>\n",
       "      <td>[0, 0]</td>\n",
       "      <td>These strings are really quite good, but I wou...</td>\n",
       "      <td>4</td>\n",
       "      <td>These strings are really quite good, but I wou...</td>\n",
       "      <td>1405468800</td>\n",
       "      <td>07 16, 2014</td>\n",
       "      <td>These strings are really quite good, but I wou...</td>\n",
       "    </tr>\n",
       "  </tbody>\n",
       "</table>\n",
       "<p>10261 rows × 10 columns</p>\n",
       "</div>"
      ],
      "text/plain": [
       "           reviewerID        asin  \\\n",
       "0      A2IBPI20UZIR0U  1384719342   \n",
       "1      A14VAT5EAX3D9S  1384719342   \n",
       "2      A195EZSQDW3E21  1384719342   \n",
       "3      A2C00NNG1ZQQG2  1384719342   \n",
       "4       A94QU4C90B1AX  1384719342   \n",
       "...               ...         ...   \n",
       "10256  A14B2YH83ZXMPP  B00JBIVXGC   \n",
       "10257   A1RPTVW5VEOSI  B00JBIVXGC   \n",
       "10258   AWCJ12KBO5VII  B00JBIVXGC   \n",
       "10259  A2Z7S8B5U4PAKJ  B00JBIVXGC   \n",
       "10260  A2WA8TDCTGUADI  B00JBIVXGC   \n",
       "\n",
       "                                           reviewerName   helpful  \\\n",
       "0      cassandra tu \"Yeah, well, that's just like, u...    [0, 0]   \n",
       "1                                                  Jake  [13, 14]   \n",
       "2                         Rick Bennette \"Rick Bennette\"    [1, 1]   \n",
       "3                             RustyBill \"Sunday Rocker\"    [0, 0]   \n",
       "4                                         SEAN MASLANKA    [0, 0]   \n",
       "...                                                 ...       ...   \n",
       "10256                                   Lonnie M. Adams    [0, 0]   \n",
       "10257                                Michael J. Edelman    [0, 0]   \n",
       "10258                                  Michael L. Knapp    [0, 0]   \n",
       "10259                           Rick Langdon \"Scriptor\"    [0, 0]   \n",
       "10260                                   TheTerrorBeyond    [0, 0]   \n",
       "\n",
       "                                              reviewText  overall  \\\n",
       "0      Not much to write about here, but it does exac...        5   \n",
       "1      The product does exactly as it should and is q...        5   \n",
       "2      The primary job of this device is to block the...        5   \n",
       "3      Nice windscreen protects my MXL mic and preven...        5   \n",
       "4      This pop filter is great. It looks and perform...        5   \n",
       "...                                                  ...      ...   \n",
       "10256            Great, just as expected.  Thank to all.        5   \n",
       "10257  I've been thinking about trying the Nanoweb st...        5   \n",
       "10258  I have tried coated strings in the past ( incl...        4   \n",
       "10259  Well, MADE by Elixir and DEVELOPED with Taylor...        4   \n",
       "10260  These strings are really quite good, but I wou...        4   \n",
       "\n",
       "                                                 summary  unixReviewTime  \\\n",
       "0                                                   good      1393545600   \n",
       "1                                                   Jake      1363392000   \n",
       "2                                   It Does The Job Well      1377648000   \n",
       "3                          GOOD WINDSCREEN FOR THE MONEY      1392336000   \n",
       "4                  No more pops when I record my vocals.      1392940800   \n",
       "...                                                  ...             ...   \n",
       "10256                                         Five Stars      1405814400   \n",
       "10257  Long life, and for some players, a good econom...      1404259200   \n",
       "10258                                   Good for coated.      1405987200   \n",
       "10259                                        Taylor Made      1404172800   \n",
       "10260  These strings are really quite good, but I wou...      1405468800   \n",
       "\n",
       "        reviewTime                                    combined_review  \n",
       "0      02 28, 2014  good Not much to write about here, but it does...  \n",
       "1      03 16, 2013  Jake The product does exactly as it should and...  \n",
       "2      08 28, 2013  It Does The Job Well The primary job of this d...  \n",
       "3      02 14, 2014  GOOD WINDSCREEN FOR THE MONEY Nice windscreen ...  \n",
       "4      02 21, 2014  No more pops when I record my vocals. This pop...  \n",
       "...            ...                                                ...  \n",
       "10256  07 20, 2014  Five Stars Great, just as expected.  Thank to ...  \n",
       "10257   07 2, 2014  Long life, and for some players, a good econom...  \n",
       "10258  07 22, 2014  Good for coated. I have tried coated strings i...  \n",
       "10259   07 1, 2014  Taylor Made Well, MADE by Elixir and DEVELOPED...  \n",
       "10260  07 16, 2014  These strings are really quite good, but I wou...  \n",
       "\n",
       "[10261 rows x 10 columns]"
      ]
     },
     "execution_count": 6,
     "metadata": {},
     "output_type": "execute_result"
    }
   ],
   "source": [
    "df['combined_review'] = df['summary'] + ' ' + df['reviewText']\n",
    "df"
   ]
  },
  {
   "cell_type": "code",
   "execution_count": 7,
   "id": "d36215ce",
   "metadata": {
    "execution": {
     "iopub.execute_input": "2025-06-26T16:00:17.958501Z",
     "iopub.status.busy": "2025-06-26T16:00:17.958181Z",
     "iopub.status.idle": "2025-06-26T16:00:17.990678Z",
     "shell.execute_reply": "2025-06-26T16:00:17.989542Z"
    },
    "papermill": {
     "duration": 0.038827,
     "end_time": "2025-06-26T16:00:17.992393",
     "exception": false,
     "start_time": "2025-06-26T16:00:17.953566",
     "status": "completed"
    },
    "tags": []
   },
   "outputs": [
    {
     "name": "stdout",
     "output_type": "stream",
     "text": [
      "<class 'pandas.core.frame.DataFrame'>\n",
      "RangeIndex: 10261 entries, 0 to 10260\n",
      "Data columns (total 10 columns):\n",
      " #   Column           Non-Null Count  Dtype \n",
      "---  ------           --------------  ----- \n",
      " 0   reviewerID       10261 non-null  object\n",
      " 1   asin             10261 non-null  object\n",
      " 2   reviewerName     10234 non-null  object\n",
      " 3   helpful          10261 non-null  object\n",
      " 4   reviewText       10261 non-null  object\n",
      " 5   overall          10261 non-null  int64 \n",
      " 6   summary          10261 non-null  object\n",
      " 7   unixReviewTime   10261 non-null  int64 \n",
      " 8   reviewTime       10261 non-null  object\n",
      " 9   combined_review  10261 non-null  object\n",
      "dtypes: int64(2), object(8)\n",
      "memory usage: 801.8+ KB\n"
     ]
    }
   ],
   "source": [
    "df.info()"
   ]
  },
  {
   "cell_type": "code",
   "execution_count": 8,
   "id": "7d37ae28",
   "metadata": {
    "execution": {
     "iopub.execute_input": "2025-06-26T16:00:18.002406Z",
     "iopub.status.busy": "2025-06-26T16:00:18.002104Z",
     "iopub.status.idle": "2025-06-26T16:00:50.255696Z",
     "shell.execute_reply": "2025-06-26T16:00:50.254654Z"
    },
    "papermill": {
     "duration": 32.260504,
     "end_time": "2025-06-26T16:00:50.257418",
     "exception": false,
     "start_time": "2025-06-26T16:00:17.996914",
     "status": "completed"
    },
    "tags": []
   },
   "outputs": [
    {
     "name": "stdout",
     "output_type": "stream",
     "text": [
      "Collecting en-core-web-lg==3.8.0\r\n",
      "  Downloading https://github.com/explosion/spacy-models/releases/download/en_core_web_lg-3.8.0/en_core_web_lg-3.8.0-py3-none-any.whl (400.7 MB)\r\n",
      "\u001b[2K     \u001b[90m━━━━━━━━━━━━━━━━━━━━━━━━━━━━━━━━━━━━━━━━\u001b[0m \u001b[32m400.7/400.7 MB\u001b[0m \u001b[31m4.1 MB/s\u001b[0m eta \u001b[36m0:00:00\u001b[0m\r\n",
      "\u001b[?25hInstalling collected packages: en-core-web-lg\r\n",
      "Successfully installed en-core-web-lg-3.8.0\r\n",
      "\u001b[38;5;2m✔ Download and installation successful\u001b[0m\r\n",
      "You can now load the package via spacy.load('en_core_web_lg')\r\n",
      "\u001b[38;5;3m⚠ Restart to reload dependencies\u001b[0m\r\n",
      "If you are in a Jupyter or Colab notebook, you may need to restart Python in\r\n",
      "order to load all the package's dependencies. You can do this by selecting the\r\n",
      "'Restart kernel' or 'Restart runtime' option.\r\n"
     ]
    }
   ],
   "source": [
    "import spacy\n",
    "!python -m spacy download en_core_web_lg\n",
    "nlp = spacy.load('en_core_web_lg')"
   ]
  },
  {
   "cell_type": "code",
   "execution_count": null,
   "id": "0e8081cd",
   "metadata": {
    "papermill": {
     "duration": 0.008729,
     "end_time": "2025-06-26T16:00:50.275720",
     "exception": false,
     "start_time": "2025-06-26T16:00:50.266991",
     "status": "completed"
    },
    "tags": []
   },
   "outputs": [],
   "source": []
  },
  {
   "cell_type": "code",
   "execution_count": null,
   "id": "4d7d2a00",
   "metadata": {
    "papermill": {
     "duration": 0.00855,
     "end_time": "2025-06-26T16:00:50.293197",
     "exception": false,
     "start_time": "2025-06-26T16:00:50.284647",
     "status": "completed"
    },
    "tags": []
   },
   "outputs": [],
   "source": []
  },
  {
   "cell_type": "code",
   "execution_count": null,
   "id": "d70f3a23",
   "metadata": {
    "papermill": {
     "duration": 0.008422,
     "end_time": "2025-06-26T16:00:50.311006",
     "exception": false,
     "start_time": "2025-06-26T16:00:50.302584",
     "status": "completed"
    },
    "tags": []
   },
   "outputs": [],
   "source": []
  },
  {
   "cell_type": "code",
   "execution_count": null,
   "id": "36d8c95f",
   "metadata": {
    "papermill": {
     "duration": 0.008447,
     "end_time": "2025-06-26T16:00:50.328269",
     "exception": false,
     "start_time": "2025-06-26T16:00:50.319822",
     "status": "completed"
    },
    "tags": []
   },
   "outputs": [],
   "source": []
  },
  {
   "cell_type": "code",
   "execution_count": null,
   "id": "5fc793d3",
   "metadata": {
    "papermill": {
     "duration": 0.008484,
     "end_time": "2025-06-26T16:00:50.345603",
     "exception": false,
     "start_time": "2025-06-26T16:00:50.337119",
     "status": "completed"
    },
    "tags": []
   },
   "outputs": [],
   "source": []
  },
  {
   "cell_type": "code",
   "execution_count": null,
   "id": "c0962816",
   "metadata": {
    "papermill": {
     "duration": 0.008579,
     "end_time": "2025-06-26T16:00:50.363117",
     "exception": false,
     "start_time": "2025-06-26T16:00:50.354538",
     "status": "completed"
    },
    "tags": []
   },
   "outputs": [],
   "source": []
  },
  {
   "cell_type": "code",
   "execution_count": null,
   "id": "e8466e6e",
   "metadata": {
    "papermill": {
     "duration": 0.008667,
     "end_time": "2025-06-26T16:00:50.380673",
     "exception": false,
     "start_time": "2025-06-26T16:00:50.372006",
     "status": "completed"
    },
    "tags": []
   },
   "outputs": [],
   "source": []
  },
  {
   "cell_type": "code",
   "execution_count": null,
   "id": "4feed5de",
   "metadata": {
    "papermill": {
     "duration": 0.008476,
     "end_time": "2025-06-26T16:00:50.397924",
     "exception": false,
     "start_time": "2025-06-26T16:00:50.389448",
     "status": "completed"
    },
    "tags": []
   },
   "outputs": [],
   "source": []
  },
  {
   "cell_type": "code",
   "execution_count": null,
   "id": "aee17e6c",
   "metadata": {
    "papermill": {
     "duration": 0.008546,
     "end_time": "2025-06-26T16:00:50.415350",
     "exception": false,
     "start_time": "2025-06-26T16:00:50.406804",
     "status": "completed"
    },
    "tags": []
   },
   "outputs": [],
   "source": []
  },
  {
   "cell_type": "code",
   "execution_count": null,
   "id": "d79b983b",
   "metadata": {
    "papermill": {
     "duration": 0.008438,
     "end_time": "2025-06-26T16:00:50.432586",
     "exception": false,
     "start_time": "2025-06-26T16:00:50.424148",
     "status": "completed"
    },
    "tags": []
   },
   "outputs": [],
   "source": []
  },
  {
   "cell_type": "code",
   "execution_count": null,
   "id": "3caa9cd8",
   "metadata": {
    "papermill": {
     "duration": 0.008387,
     "end_time": "2025-06-26T16:00:50.449914",
     "exception": false,
     "start_time": "2025-06-26T16:00:50.441527",
     "status": "completed"
    },
    "tags": []
   },
   "outputs": [],
   "source": []
  },
  {
   "cell_type": "code",
   "execution_count": null,
   "id": "6dc404f2",
   "metadata": {
    "papermill": {
     "duration": 0.00843,
     "end_time": "2025-06-26T16:00:50.467112",
     "exception": false,
     "start_time": "2025-06-26T16:00:50.458682",
     "status": "completed"
    },
    "tags": []
   },
   "outputs": [],
   "source": []
  },
  {
   "cell_type": "code",
   "execution_count": null,
   "id": "92fe218b",
   "metadata": {
    "papermill": {
     "duration": 0.008676,
     "end_time": "2025-06-26T16:00:50.484596",
     "exception": false,
     "start_time": "2025-06-26T16:00:50.475920",
     "status": "completed"
    },
    "tags": []
   },
   "outputs": [],
   "source": []
  },
  {
   "cell_type": "code",
   "execution_count": null,
   "id": "91c0abf3",
   "metadata": {
    "papermill": {
     "duration": 0.009052,
     "end_time": "2025-06-26T16:00:50.503983",
     "exception": false,
     "start_time": "2025-06-26T16:00:50.494931",
     "status": "completed"
    },
    "tags": []
   },
   "outputs": [],
   "source": []
  }
 ],
 "metadata": {
  "kaggle": {
   "accelerator": "none",
   "dataSources": [
    {
     "datasetId": 573774,
     "sourceId": 1043123,
     "sourceType": "datasetVersion"
    }
   ],
   "dockerImageVersionId": 31040,
   "isGpuEnabled": false,
   "isInternetEnabled": true,
   "language": "python",
   "sourceType": "notebook"
  },
  "kernelspec": {
   "display_name": "Python 3",
   "language": "python",
   "name": "python3"
  },
  "language_info": {
   "codemirror_mode": {
    "name": "ipython",
    "version": 3
   },
   "file_extension": ".py",
   "mimetype": "text/x-python",
   "name": "python",
   "nbconvert_exporter": "python",
   "pygments_lexer": "ipython3",
   "version": "3.11.11"
  },
  "papermill": {
   "default_parameters": {},
   "duration": 40.984789,
   "end_time": "2025-06-26T16:00:52.035891",
   "environment_variables": {},
   "exception": null,
   "input_path": "__notebook__.ipynb",
   "output_path": "__notebook__.ipynb",
   "parameters": {},
   "start_time": "2025-06-26T16:00:11.051102",
   "version": "2.6.0"
  }
 },
 "nbformat": 4,
 "nbformat_minor": 5
}
